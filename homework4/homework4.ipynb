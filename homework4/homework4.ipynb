{
 "cells": [
  {
   "cell_type": "markdown",
   "metadata": {},
   "source": [
    "# 互评作业1\n",
    "## Consumer & Visitor Insights For Neighborhoods数据预处理"
   ]
  },
  {
   "cell_type": "code",
   "execution_count": 2,
   "metadata": {},
   "outputs": [],
   "source": [
    "import numpy as np\n",
    "import pandas as pd\n",
    "import matplotlib.pyplot as plt\n",
    "from scipy.spatial.distance import pdist\n",
    "from math import ceil"
   ]
  },
  {
   "cell_type": "code",
   "execution_count": 3,
   "metadata": {},
   "outputs": [
    {
     "data": {
      "text/html": [
       "<div>\n",
       "<style scoped>\n",
       "    .dataframe tbody tr th:only-of-type {\n",
       "        vertical-align: middle;\n",
       "    }\n",
       "\n",
       "    .dataframe tbody tr th {\n",
       "        vertical-align: top;\n",
       "    }\n",
       "\n",
       "    .dataframe thead th {\n",
       "        text-align: right;\n",
       "    }\n",
       "</style>\n",
       "<table border=\"1\" class=\"dataframe\">\n",
       "  <thead>\n",
       "    <tr style=\"text-align: right;\">\n",
       "      <th></th>\n",
       "      <th>census_block_group</th>\n",
       "      <th>date_range_start</th>\n",
       "      <th>date_range_end</th>\n",
       "      <th>raw_visit_count</th>\n",
       "      <th>raw_visitor_count</th>\n",
       "      <th>visitor_home_cbgs</th>\n",
       "      <th>visitor_work_cbgs</th>\n",
       "      <th>distance_from_home</th>\n",
       "      <th>related_same_day_brand</th>\n",
       "      <th>related_same_month_brand</th>\n",
       "      <th>top_brands</th>\n",
       "      <th>popularity_by_hour</th>\n",
       "      <th>popularity_by_day</th>\n",
       "    </tr>\n",
       "  </thead>\n",
       "  <tbody>\n",
       "    <tr>\n",
       "      <th>0</th>\n",
       "      <td>1.005951e+10</td>\n",
       "      <td>1538352000</td>\n",
       "      <td>1541030400</td>\n",
       "      <td>75122.0</td>\n",
       "      <td>18314.0</td>\n",
       "      <td>{\"010059501003\":127,\"010059509001\":111,\"010059...</td>\n",
       "      <td>{\"010059501003\":109,\"010810407002\":62,\"0108104...</td>\n",
       "      <td>194724.0</td>\n",
       "      <td>[\"Chick-fil-A\",\"mcdonalds\",\"Marathon Petroleum...</td>\n",
       "      <td>[\"walmart\",\"mcdonalds\",\"Dollar General\",\"Chick...</td>\n",
       "      <td>[\"CrossFit\",\"Health Mart\",\"Coldwell Banker\"]</td>\n",
       "      <td>[2617,2457,2403,2519,2646,3007,3886,7566,5508,...</td>\n",
       "      <td>{\"Monday\":12000,\"Tuesday\":12224,\"Wednesday\":10...</td>\n",
       "    </tr>\n",
       "    <tr>\n",
       "      <th>1</th>\n",
       "      <td>1.009051e+10</td>\n",
       "      <td>1538352000</td>\n",
       "      <td>1541030400</td>\n",
       "      <td>95649.0</td>\n",
       "      <td>38942.0</td>\n",
       "      <td>{\"010730113021\":210,\"010090506022\":205,\"010090...</td>\n",
       "      <td>{\"010890111001\":271,\"010730045001\":269,\"010439...</td>\n",
       "      <td>120587.0</td>\n",
       "      <td>[\"Shell Oil\",\"mcdonalds\",\"Chick-fil-A\",\"Chevron\"]</td>\n",
       "      <td>[\"walmart\",\"mcdonalds\",\"Shell Oil\",\"Chick-fil-...</td>\n",
       "      <td>[]</td>\n",
       "      <td>[6556,6325,6222,6355,6586,7350,8568,8099,7378,...</td>\n",
       "      <td>{\"Monday\":12125,\"Tuesday\":12984,\"Wednesday\":12...</td>\n",
       "    </tr>\n",
       "    <tr>\n",
       "      <th>2</th>\n",
       "      <td>1.047957e+10</td>\n",
       "      <td>1538352000</td>\n",
       "      <td>1541030400</td>\n",
       "      <td>14009.0</td>\n",
       "      <td>3039.0</td>\n",
       "      <td>{\"010479567011\":67,\"010479567021\":60}</td>\n",
       "      <td>{\"010479567021\":52}</td>\n",
       "      <td>67774.0</td>\n",
       "      <td>[\"Dollar General\"]</td>\n",
       "      <td>[\"walmart\",\"Dollar General\",\"mcdonalds\",\"Chevr...</td>\n",
       "      <td>[\"Dollar General\"]</td>\n",
       "      <td>[807,790,796,786,851,951,1134,1797,1355,1241,1...</td>\n",
       "      <td>{\"Monday\":2314,\"Tuesday\":2340,\"Wednesday\":2195...</td>\n",
       "    </tr>\n",
       "    <tr>\n",
       "      <th>3</th>\n",
       "      <td>1.069040e+10</td>\n",
       "      <td>1538352000</td>\n",
       "      <td>1541030400</td>\n",
       "      <td>128169.0</td>\n",
       "      <td>25418.0</td>\n",
       "      <td>{\"010690402013\":370,\"010690402011\":322,\"010690...</td>\n",
       "      <td>{\"010690402024\":313,\"010690415004\":203,\"010450...</td>\n",
       "      <td>42684.0</td>\n",
       "      <td>[\"Chick-fil-A\",\"Sam's Club\",\"Dollar General\",\"...</td>\n",
       "      <td>[\"walmart\",\"Dollar General\",\"mcdonalds\",\"Marat...</td>\n",
       "      <td>[\"Chick-fil-A\",\"Sam's Club\",\"Olive Garden\",\"mc...</td>\n",
       "      <td>[2121,1828,1784,1704,1861,2373,3730,7497,7093,...</td>\n",
       "      <td>{\"Monday\":21141,\"Tuesday\":21143,\"Wednesday\":17...</td>\n",
       "    </tr>\n",
       "    <tr>\n",
       "      <th>4</th>\n",
       "      <td>1.073011e+10</td>\n",
       "      <td>1538352000</td>\n",
       "      <td>1541030400</td>\n",
       "      <td>51453.0</td>\n",
       "      <td>9499.0</td>\n",
       "      <td>{\"010090507001\":183,\"010730113021\":167,\"010730...</td>\n",
       "      <td>{\"010730045001\":140,\"010730027001\":123,\"010730...</td>\n",
       "      <td>18878.0</td>\n",
       "      <td>[\"Chevron\",\"Daylight Donuts\",\"walmart\"]</td>\n",
       "      <td>[\"walmart\",\"Chevron\",\"Dollar General\",\"Shell O...</td>\n",
       "      <td>[\"Chevron\",\"CrossFit\"]</td>\n",
       "      <td>[3804,3716,3686,3672,3735,4115,4855,5946,4526,...</td>\n",
       "      <td>{\"Monday\":8402,\"Tuesday\":8414,\"Wednesday\":8550...</td>\n",
       "    </tr>\n",
       "  </tbody>\n",
       "</table>\n",
       "</div>"
      ],
      "text/plain": [
       "   census_block_group  date_range_start  date_range_end  raw_visit_count  \\\n",
       "0        1.005951e+10        1538352000      1541030400          75122.0   \n",
       "1        1.009051e+10        1538352000      1541030400          95649.0   \n",
       "2        1.047957e+10        1538352000      1541030400          14009.0   \n",
       "3        1.069040e+10        1538352000      1541030400         128169.0   \n",
       "4        1.073011e+10        1538352000      1541030400          51453.0   \n",
       "\n",
       "   raw_visitor_count                                  visitor_home_cbgs  \\\n",
       "0            18314.0  {\"010059501003\":127,\"010059509001\":111,\"010059...   \n",
       "1            38942.0  {\"010730113021\":210,\"010090506022\":205,\"010090...   \n",
       "2             3039.0              {\"010479567011\":67,\"010479567021\":60}   \n",
       "3            25418.0  {\"010690402013\":370,\"010690402011\":322,\"010690...   \n",
       "4             9499.0  {\"010090507001\":183,\"010730113021\":167,\"010730...   \n",
       "\n",
       "                                   visitor_work_cbgs  distance_from_home  \\\n",
       "0  {\"010059501003\":109,\"010810407002\":62,\"0108104...            194724.0   \n",
       "1  {\"010890111001\":271,\"010730045001\":269,\"010439...            120587.0   \n",
       "2                                {\"010479567021\":52}             67774.0   \n",
       "3  {\"010690402024\":313,\"010690415004\":203,\"010450...             42684.0   \n",
       "4  {\"010730045001\":140,\"010730027001\":123,\"010730...             18878.0   \n",
       "\n",
       "                              related_same_day_brand  \\\n",
       "0  [\"Chick-fil-A\",\"mcdonalds\",\"Marathon Petroleum...   \n",
       "1  [\"Shell Oil\",\"mcdonalds\",\"Chick-fil-A\",\"Chevron\"]   \n",
       "2                                 [\"Dollar General\"]   \n",
       "3  [\"Chick-fil-A\",\"Sam's Club\",\"Dollar General\",\"...   \n",
       "4            [\"Chevron\",\"Daylight Donuts\",\"walmart\"]   \n",
       "\n",
       "                            related_same_month_brand  \\\n",
       "0  [\"walmart\",\"mcdonalds\",\"Dollar General\",\"Chick...   \n",
       "1  [\"walmart\",\"mcdonalds\",\"Shell Oil\",\"Chick-fil-...   \n",
       "2  [\"walmart\",\"Dollar General\",\"mcdonalds\",\"Chevr...   \n",
       "3  [\"walmart\",\"Dollar General\",\"mcdonalds\",\"Marat...   \n",
       "4  [\"walmart\",\"Chevron\",\"Dollar General\",\"Shell O...   \n",
       "\n",
       "                                          top_brands  \\\n",
       "0       [\"CrossFit\",\"Health Mart\",\"Coldwell Banker\"]   \n",
       "1                                                 []   \n",
       "2                                 [\"Dollar General\"]   \n",
       "3  [\"Chick-fil-A\",\"Sam's Club\",\"Olive Garden\",\"mc...   \n",
       "4                             [\"Chevron\",\"CrossFit\"]   \n",
       "\n",
       "                                  popularity_by_hour  \\\n",
       "0  [2617,2457,2403,2519,2646,3007,3886,7566,5508,...   \n",
       "1  [6556,6325,6222,6355,6586,7350,8568,8099,7378,...   \n",
       "2  [807,790,796,786,851,951,1134,1797,1355,1241,1...   \n",
       "3  [2121,1828,1784,1704,1861,2373,3730,7497,7093,...   \n",
       "4  [3804,3716,3686,3672,3735,4115,4855,5946,4526,...   \n",
       "\n",
       "                                   popularity_by_day  \n",
       "0  {\"Monday\":12000,\"Tuesday\":12224,\"Wednesday\":10...  \n",
       "1  {\"Monday\":12125,\"Tuesday\":12984,\"Wednesday\":12...  \n",
       "2  {\"Monday\":2314,\"Tuesday\":2340,\"Wednesday\":2195...  \n",
       "3  {\"Monday\":21141,\"Tuesday\":21143,\"Wednesday\":17...  \n",
       "4  {\"Monday\":8402,\"Tuesday\":8414,\"Wednesday\":8550...  "
      ]
     },
     "execution_count": 3,
     "metadata": {},
     "output_type": "execute_result"
    }
   ],
   "source": [
    "data = pd.read_csv(\"../data/archive/cbg_patterns.csv\")\n",
    "data.head()"
   ]
  },
  {
   "cell_type": "code",
   "execution_count": 4,
   "metadata": {},
   "outputs": [
    {
     "data": {
      "text/plain": [
       "(array([5.2225e+04, 8.4020e+03, 4.4100e+03, 2.8990e+03, 1.6890e+03,\n",
       "        7.1000e+02, 1.7800e+02, 3.8000e+01, 5.0000e+00, 1.0000e+00]),\n",
       " array([ 1. ,  3.9,  6.8,  9.7, 12.6, 15.5, 18.4, 21.3, 24.2, 27.1, 30. ]),\n",
       " <a list of 10 Patch objects>)"
      ]
     },
     "execution_count": 4,
     "metadata": {},
     "output_type": "execute_result"
    },
    {
     "data": {
      "image/png": "[encoded data removed]",
      "text/plain": [
       "<Figure size 1440x576 with 1 Axes>"
      ]
     },
     "metadata": {
      "needs_background": "light"
     },
     "output_type": "display_data"
    }
   ],
   "source": [
    "#统计distance_from_home一列每个可能聚会的频数\n",
    "distance = data.distance_from_home.value_counts()\n",
    "plt.figure(figsize=(20, 8))\n",
    "plt.hist(distance)"
   ]
  },
  {
   "cell_type": "code",
   "execution_count": 5,
   "metadata": {},
   "outputs": [
    {
     "data": {
      "text/plain": [
       "count    2.206290e+05\n",
       "mean     4.793066e+04\n",
       "std      6.252655e+04\n",
       "min      6.000000e+01\n",
       "25%      1.704200e+04\n",
       "50%      3.064000e+04\n",
       "75%      5.667800e+04\n",
       "max      7.179900e+06\n",
       "Name: raw_visit_count, dtype: float64"
      ]
     },
     "execution_count": 5,
     "metadata": {},
     "output_type": "execute_result"
    }
   ],
   "source": [
    "#给出raw_visit_count一列的五数概括\n",
    "data.raw_visit_count.describe()"
   ]
  },
  {
   "cell_type": "code",
   "execution_count": 6,
   "metadata": {},
   "outputs": [
    {
     "name": "stdout",
     "output_type": "stream",
     "text": [
      "census_block_group            1\n",
      "date_range_start              0\n",
      "date_range_end                0\n",
      "raw_visit_count             106\n",
      "raw_visitor_count           106\n",
      "visitor_home_cbgs             0\n",
      "visitor_work_cbgs             0\n",
      "distance_from_home          217\n",
      "related_same_day_brand        0\n",
      "related_same_month_brand      0\n",
      "top_brands                    0\n",
      "popularity_by_hour            0\n",
      "popularity_by_day             0\n",
      "dtype: int64\n"
     ]
    }
   ],
   "source": [
    "print(data.isnull().sum()) #统计每一列缺失值的个数"
   ]
  },
  {
   "cell_type": "code",
   "execution_count": 7,
   "metadata": {},
   "outputs": [
    {
     "data": {
      "text/html": [
       "<div>\n",
       "<style scoped>\n",
       "    .dataframe tbody tr th:only-of-type {\n",
       "        vertical-align: middle;\n",
       "    }\n",
       "\n",
       "    .dataframe tbody tr th {\n",
       "        vertical-align: top;\n",
       "    }\n",
       "\n",
       "    .dataframe thead th {\n",
       "        text-align: right;\n",
       "    }\n",
       "</style>\n",
       "<table border=\"1\" class=\"dataframe\">\n",
       "  <thead>\n",
       "    <tr style=\"text-align: right;\">\n",
       "      <th></th>\n",
       "      <th>census_block_group</th>\n",
       "      <th>date_range_start</th>\n",
       "      <th>date_range_end</th>\n",
       "      <th>raw_visit_count</th>\n",
       "      <th>raw_visitor_count</th>\n",
       "      <th>visitor_home_cbgs</th>\n",
       "      <th>visitor_work_cbgs</th>\n",
       "      <th>distance_from_home</th>\n",
       "      <th>related_same_day_brand</th>\n",
       "      <th>related_same_month_brand</th>\n",
       "      <th>top_brands</th>\n",
       "      <th>popularity_by_hour</th>\n",
       "      <th>popularity_by_day</th>\n",
       "    </tr>\n",
       "  </thead>\n",
       "  <tbody>\n",
       "    <tr>\n",
       "      <th>220734</th>\n",
       "      <td>NaN</td>\n",
       "      <td>1538352000</td>\n",
       "      <td>1541030400</td>\n",
       "      <td>NaN</td>\n",
       "      <td>NaN</td>\n",
       "      <td>{}</td>\n",
       "      <td>{}</td>\n",
       "      <td>NaN</td>\n",
       "      <td>[]</td>\n",
       "      <td>[]</td>\n",
       "      <td>[]</td>\n",
       "      <td>[]</td>\n",
       "      <td>{}</td>\n",
       "    </tr>\n",
       "  </tbody>\n",
       "</table>\n",
       "</div>"
      ],
      "text/plain": [
       "        census_block_group  date_range_start  date_range_end  raw_visit_count  \\\n",
       "220734                 NaN        1538352000      1541030400              NaN   \n",
       "\n",
       "        raw_visitor_count visitor_home_cbgs visitor_work_cbgs  \\\n",
       "220734                NaN                {}                {}   \n",
       "\n",
       "        distance_from_home related_same_day_brand related_same_month_brand  \\\n",
       "220734                 NaN                     []                       []   \n",
       "\n",
       "       top_brands popularity_by_hour popularity_by_day  \n",
       "220734         []                 []                {}  "
      ]
     },
     "execution_count": 7,
     "metadata": {},
     "output_type": "execute_result"
    }
   ],
   "source": [
    "#对于census_block_group缺失的数据，由于census_block_group是人口普查区组唯一的12位FIPS码，无法进行填补，故选择直接将该行数据剔除\n",
    "data[data['census_block_group'].isnull()]  #索引为220734"
   ]
  },
  {
   "cell_type": "code",
   "execution_count": 8,
   "metadata": {},
   "outputs": [
    {
     "data": {
      "text/plain": [
       "8345.0      30\n",
       "8198.0      27\n",
       "7422.0      27\n",
       "8073.0      27\n",
       "8337.0      25\n",
       "            ..\n",
       "57053.0      1\n",
       "142012.0     1\n",
       "29289.0      1\n",
       "191089.0     1\n",
       "188528.0     1\n",
       "Name: distance_from_home, Length: 70557, dtype: int64"
      ]
     },
     "execution_count": 8,
     "metadata": {},
     "output_type": "execute_result"
    }
   ],
   "source": [
    "data.drop(220734,inplace=True)#将索引为220734的数据剔除\n",
    "#对于raw_visit_count和raw_visitor_count两列的缺失值，分别使用他们的均值进行填充\n",
    "raw_visit_count_mean = np.ceil( np.mean(data.raw_visit_count) )\n",
    "data.raw_visit_count = data.raw_visit_count.fillna(raw_visit_count_mean)\n",
    "raw_visitor_count_mean = np.ceil( np.mean(data.raw_visitor_count) )\n",
    "data.raw_visitor_count = data.raw_visitor_count.fillna(raw_visitor_count_mean)\n",
    "#对于distance_from_home一列使用最高频率值来填补缺失值\n",
    "data.distance_from_home.value_counts()"
   ]
  },
  {
   "cell_type": "code",
   "execution_count": 9,
   "metadata": {},
   "outputs": [
    {
     "name": "stdout",
     "output_type": "stream",
     "text": [
      "census_block_group          0\n",
      "date_range_start            0\n",
      "date_range_end              0\n",
      "raw_visit_count             0\n",
      "raw_visitor_count           0\n",
      "visitor_home_cbgs           0\n",
      "visitor_work_cbgs           0\n",
      "distance_from_home          0\n",
      "related_same_day_brand      0\n",
      "related_same_month_brand    0\n",
      "top_brands                  0\n",
      "popularity_by_hour          0\n",
      "popularity_by_day           0\n",
      "dtype: int64\n"
     ]
    }
   ],
   "source": [
    "data.distance_from_home = data.distance_from_home.fillna(8345.0) #使用最高频率值进行填充\n",
    "#至此所有缺失值填补完毕\n",
    "print(data.isnull().sum())"
   ]
  },
  {
   "cell_type": "code",
   "execution_count": 10,
   "metadata": {},
   "outputs": [
    {
     "data": {
      "text/plain": [
       "{'whiskers': [<matplotlib.lines.Line2D at 0x18ac4452c08>,\n",
       "  <matplotlib.lines.Line2D at 0x18ac4452cc8>],\n",
       " 'caps': [<matplotlib.lines.Line2D at 0x18ac4459e08>,\n",
       "  <matplotlib.lines.Line2D at 0x18ac445ca08>],\n",
       " 'boxes': [<matplotlib.lines.Line2D at 0x18ac4452a48>],\n",
       " 'medians': [<matplotlib.lines.Line2D at 0x18ac445cf08>],\n",
       " 'fliers': [<matplotlib.lines.Line2D at 0x18ac32565c8>],\n",
       " 'means': []}"
      ]
     },
     "execution_count": 10,
     "metadata": {},
     "output_type": "execute_result"
    },
    {
     "data": {
      "image/png": "[encoded data removed]",
      "text/plain": [
       "<Figure size 432x288 with 1 Axes>"
      ]
     },
     "metadata": {
      "needs_background": "light"
     },
     "output_type": "display_data"
    }
   ],
   "source": [
    "#绘制盒图\n",
    "plt.boxplot(data.raw_visit_count)"
   ]
  },
  {
   "cell_type": "code",
   "execution_count": 11,
   "metadata": {},
   "outputs": [
    {
     "data": {
      "text/plain": [
       "(array([ 3972.,  4178., 25359.,  3532.,  3159., 11892.,  5533.,  1836.,\n",
       "        14505.,  4981.,  6756.,  4359.,  6434., 11520.,  6670.,  2475.,\n",
       "         2758.,  7769., 21618.,  9810.,  5599.,  9740.,  3874.,  4779.,\n",
       "        17501.,  2176.,  3678.,  6375.,  4899.,     0.,    41.,     0.,\n",
       "            0.,   218.,     0.,    55.,  2594.,     0.,     0.,    89.]),\n",
       " array([1.00102010e+10, 2.92676935e+10, 4.85251860e+10, 6.77826784e+10,\n",
       "        8.70401709e+10, 1.06297663e+11, 1.25555156e+11, 1.44812648e+11,\n",
       "        1.64070141e+11, 1.83327633e+11, 2.02585126e+11, 2.21842618e+11,\n",
       "        2.41100111e+11, 2.60357603e+11, 2.79615096e+11, 2.98872588e+11,\n",
       "        3.18130081e+11, 3.37387573e+11, 3.56645066e+11, 3.75902558e+11,\n",
       "        3.95160051e+11, 4.14417543e+11, 4.33675035e+11, 4.52932528e+11,\n",
       "        4.72190020e+11, 4.91447513e+11, 5.10705005e+11, 5.29962498e+11,\n",
       "        5.49219990e+11, 5.68477483e+11, 5.87734975e+11, 6.06992468e+11,\n",
       "        6.26249960e+11, 6.45507453e+11, 6.64764945e+11, 6.84022438e+11,\n",
       "        7.03279930e+11, 7.22537423e+11, 7.41794915e+11, 7.61052408e+11,\n",
       "        7.80309900e+11]),\n",
       " <a list of 40 Patch objects>)"
      ]
     },
     "execution_count": 11,
     "metadata": {},
     "output_type": "execute_result"
    },
    {
     "data": {
      "image/png": "[encoded data removed]",
      "text/plain": [
       "<Figure size 432x288 with 1 Axes>"
      ]
     },
     "metadata": {
      "needs_background": "light"
     },
     "output_type": "display_data"
    }
   ],
   "source": [
    "#绘制直方图\n",
    "plt.hist(data.census_block_group, bins=40, facecolor=\"blue\", edgecolor=\"black\", alpha=0.7)"
   ]
  },
  {
   "cell_type": "markdown",
   "metadata": {},
   "source": [
    "##  wine-reviews数据预处理"
   ]
  },
  {
   "cell_type": "code",
   "execution_count": 2,
   "metadata": {},
   "outputs": [
    {
     "name": "stdout",
     "output_type": "stream",
     "text": [
      "winemag-data_first150k.csv标称属性有country，province，variety，winery\n",
      "winemag-data-130k-v2.csv标称属性有country，province，taster_name，variety，winery\n"
     ]
    }
   ],
   "source": [
    "data1 = pd.read_csv(\"../data/archive/winemag-data_first150k.csv\",encoding=\"utf-8\")[[\"country\", \"points\", \"price\", \"province\", \"variety\", \"winery\"]]\n",
    "data2 = pd.read_csv(\"../data/archive/winemag-data-130k-v2.csv\",encoding=\"utf-8\")[[\"country\", \"points\", \"price\", \"province\", \"taster_name\", \"variety\", \"winery\"]]\n",
    "\n",
    "print(\"winemag-data_first150k.csv标称属性有country，province，variety，winery\")\n",
    "print(\"winemag-data-130k-v2.csv标称属性有country，province，taster_name，variety，winery\")"
   ]
  },
  {
   "cell_type": "code",
   "execution_count": 3,
   "metadata": {},
   "outputs": [
    {
     "name": "stdout",
     "output_type": "stream",
     "text": [
      "数值属性有points和price\n",
      "Wine/winemag-data_first150k.csv：\n",
      "points缺省值数量：0；五数概括：(80, 86.0, 88.0, 90.0, 100)\n",
      "price缺省值数量：13695；五数概括：(4.0, 16.0, 24.0, 40.0, 2300.0)\n",
      "Wine/winemag-data-130k-v2.csv：\n",
      "points缺省值数量：0；五数概括：(80, 86.0, 88.0, 91.0, 100)\n",
      "price缺省值数量：8996；五数概括：(4.0, 17.0, 25.0, 42.0, 3300.0)\n"
     ]
    }
   ],
   "source": [
    "def fiveNumber(nums):\n",
    "    #五数概括 Minimum、Q1、Median、Q3、Maximum\n",
    "    Minimum=min(nums)\n",
    "    Maximum=max(nums)\n",
    "    Q1=np.percentile(nums,25)\n",
    "    Median=np.median(nums)\n",
    "    Q3=np.percentile(nums,75)\n",
    "    \n",
    "    IQR=Q3-Q1\n",
    "    lower_limit=Q1-1.5*IQR #下限值\n",
    "    upper_limit=Q3+1.5*IQR #上限值\n",
    "    \n",
    "    return Minimum,Q1,Median,Q3,Maximum\n",
    "\n",
    "print(\"数值属性有points和price\")\n",
    "d = pd.DataFrame(data=data1[[\"price\"]])#price属性有空值,转成DataFrame格式处理该空值\n",
    "d=d.dropna(axis=0, how='any')\n",
    "d=d.values\n",
    "d=d.flatten()\n",
    "m=fiveNumber(d)\n",
    "points_five1=fiveNumber(data1[[\"points\"][0]])\n",
    "print(\"Wine/winemag-data_first150k.csv：\\npoints缺省值数量：\"+str(data1[[\"points\"]].isnull().sum()[0])+\\\n",
    "      \"；五数概括：\"+str(points_five1)+\"\\nprice缺省值数量：\"+str(data1[[\"price\"]].isnull().sum()[0])+\"；五数概括：\"+str(m))\n",
    "\n",
    "d2 = pd.DataFrame(data=data2[[\"price\"]])\n",
    "d2=d2.dropna(axis=0, how='any')\n",
    "keep2=d2\n",
    "d2=d2.values\n",
    "d2=d2.flatten()\n",
    "m2=fiveNumber(d2)\n",
    "points_five2=fiveNumber(data2[[\"points\"][0]])\n",
    "print(\"Wine/winemag-data-130k-v2.csv：\\npoints缺省值数量：\"+str(data2[[\"points\"]].isnull().sum()[0])+\\\n",
    "      \"；五数概括：\"+str(points_five2)+\"\\nprice缺省值数量：\"+str(data2[[\"price\"]].isnull().sum()[0])+\"；五数概括：\"+str(m2))"
   ]
  },
  {
   "cell_type": "code",
   "execution_count": 4,
   "metadata": {},
   "outputs": [
    {
     "data": {
      "image/png": "[encoded data removed]",
      "text/plain": [
       "<Figure size 432x288 with 1 Axes>"
      ]
     },
     "metadata": {
      "needs_background": "light"
     },
     "output_type": "display_data"
    },
    {
     "data": {
      "image/png": "[encoded data removed]",
      "text/plain": [
       "<Figure size 432x288 with 1 Axes>"
      ]
     },
     "metadata": {
      "needs_background": "light"
     },
     "output_type": "display_data"
    }
   ],
   "source": [
    "#point\n",
    "\n",
    "point_box = pd.DataFrame({\"winemag-data_first150k.csv\":data1[[\"points\"][0]],\n",
    "                     \"winemag-data-130k-v2.csv\":data2[[\"points\"][0]]})\n",
    "point_box.boxplot()\n",
    "plt.ylabel(\"Points\")\n",
    "plt.xlabel(\"dataset\")\n",
    "plt.show()\n",
    "\n",
    "price_box = pd.DataFrame({\"winemag-data_first150k.csv\":data1[[\"price\"][0]],\n",
    "                     \"winemag-data-130k-v2.csv\":data2[[\"price\"][0]]})\n",
    "price_box.boxplot()\n",
    "plt.ylabel(\"Price\")\n",
    "plt.xlabel(\"dataset\")\n",
    "plt.show()\n",
    "point1_out=[]\n",
    "point2_out=[]\n",
    "#离群点函数\n",
    "def outpoint(data,point3,point1):\n",
    "    out=[]\n",
    "    for i in range(len(data)):\n",
    "        if (data[i]>(point3+1.5*(point3-point1))or\\\n",
    "           data[i]<(point1-1.5*(point3-point1))):\n",
    "               out.append(data[i])\n",
    "    return out"
   ]
  },
  {
   "cell_type": "code",
   "execution_count": 5,
   "metadata": {},
   "outputs": [
    {
     "name": "stdout",
     "output_type": "stream",
     "text": [
      "Points' Histogram:\n"
     ]
    },
    {
     "data": {
      "image/png": "[encoded data removed]",
      "text/plain": [
       "<Figure size 432x288 with 1 Axes>"
      ]
     },
     "metadata": {
      "needs_background": "light"
     },
     "output_type": "display_data"
    },
    {
     "data": {
      "image/png": "[encoded data removed]",
      "text/plain": [
       "<Figure size 432x288 with 1 Axes>"
      ]
     },
     "metadata": {
      "needs_background": "light"
     },
     "output_type": "display_data"
    }
   ],
   "source": [
    "print(\"Points' Histogram:\")#度数直方图\n",
    "plt.show()\n",
    "plt.hist(data1[[\"points\"][0]], bins=20,  edgecolor = 'black',\\\n",
    "         histtype='bar', align='mid', orientation='vertical')\n",
    "plt.xlabel('points')\n",
    "plt.ylabel('frequency')\n",
    "plt.title('winemag-data_first150k')\n",
    "plt.show()\n",
    "plt.hist(data2[[\"points\"][0]], bins=20,  edgecolor = 'black',\\\n",
    "         histtype='bar', align='mid', orientation='vertical')\n",
    "plt.xlabel('points')\n",
    "plt.ylabel('frequency')\n",
    "plt.title('winemag-data-130k-v2')\n",
    "plt.show()"
   ]
  },
  {
   "cell_type": "code",
   "execution_count": 6,
   "metadata": {},
   "outputs": [
    {
     "name": "stdout",
     "output_type": "stream",
     "text": [
      "Points' Histogram:\n"
     ]
    },
    {
     "data": {
      "image/png": "[encoded data removed]",
      "text/plain": [
       "<Figure size 432x288 with 1 Axes>"
      ]
     },
     "metadata": {
      "needs_background": "light"
     },
     "output_type": "display_data"
    },
    {
     "data": {
      "image/png": "[encoded data removed]",
      "text/plain": [
       "<Figure size 432x288 with 1 Axes>"
      ]
     },
     "metadata": {
      "needs_background": "light"
     },
     "output_type": "display_data"
    }
   ],
   "source": [
    "print(\"Points' Histogram:\")#度数直方图\n",
    "\n",
    "plt.hist(d, bins=50,  edgecolor = 'black',\\\n",
    "         histtype='bar', align='mid', orientation='vertical')\n",
    "plt.xlabel('price')\n",
    "plt.ylabel('frequency')\n",
    "plt.title('winemag-data_first150k')\n",
    "plt.show()\n",
    "plt.hist(d2, bins=50,  edgecolor = 'black',\\\n",
    "         histtype='bar', align='mid', orientation='vertical')\n",
    "plt.xlabel('price')\n",
    "plt.ylabel('frequency')\n",
    "plt.title('winemag-data-130k-v2')\n",
    "plt.show()"
   ]
  },
  {
   "cell_type": "code",
   "execution_count": 7,
   "metadata": {},
   "outputs": [
    {
     "name": "stdout",
     "output_type": "stream",
     "text": [
      "缺失的数据为price数据：\n",
      "              price  variety\n",
      "country                     \n",
      "France            0     6313\n",
      "Italy             0     4694\n",
      "Portugal          0     1146\n",
      "Austria           0      574\n",
      "US                0      258\n",
      "New Zealand       0      250\n",
      "Spain             0      108\n",
      "Germany           0      105\n",
      "Australia         0       63\n",
      "Chile             0       50\n",
      "Argentina         0       44\n",
      "South Africa      0       21\n",
      "Israel            0       20\n",
      "Slovenia          0       13\n",
      "Greece            0       12\n",
      "Uruguay           0        7\n",
      "Croatia           0        6\n",
      "Egypt             0        3\n",
      "Canada            0        2\n",
      "Tunisia           0        2\n",
      "Turkey            0        2\n",
      "England           0        1\n",
      "Hungary           0        1\n",
      "                            country  price\n",
      "variety                                   \n",
      "Bordeaux-style Red Blend       2802      0\n",
      "Nebbiolo                        712      0\n",
      "Chardonnay                      707      0\n",
      "Red Blend                       684      0\n",
      "Bordeaux-style White Blend      681      0\n",
      "...                             ...    ...\n",
      "Corvina                           1      0\n",
      "Roviello                          1      0\n",
      "Merlot-Syrah                      1      0\n",
      "Espadeiro                         1      0\n",
      "Malvasia Bianca                   1      0\n",
      "\n",
      "[256 rows x 2 columns]\n"
     ]
    }
   ],
   "source": [
    "print(\"缺失的数据为price数据：\")\n",
    "num_grapes = data1[ [\"country\",\"price\", \"variety\"] ]\n",
    "num_grapes=num_grapes[num_grapes['price'].isnull()]\n",
    "num_country=num_grapes.groupby(by=\"country\").count().sort_values(by=\"variety\")[::-1]\n",
    "num_variety=num_grapes.groupby(by=\"variety\").count().sort_values(by=\"country\")[::-1]\n",
    "num_grapes2 = data2[ [\"country\",\"price\", \"variety\"] ]\n",
    "num_grapes2=num_grapes2[num_grapes2['price'].isnull()]\n",
    "num_country2=num_grapes2.groupby(by=\"country\").count().sort_values(by=\"variety\")[::-1]\n",
    "num_variety2=num_grapes2.groupby(by=\"variety\").count().sort_values(by=\"country\")[::-1]\n",
    "print(num_country)\n",
    "print(num_variety)"
   ]
  },
  {
   "cell_type": "code",
   "execution_count": 9,
   "metadata": {},
   "outputs": [
    {
     "data": {
      "image/png": "[encoded data removed]",
      "text/plain": [
       "<Figure size 432x288 with 1 Axes>"
      ]
     },
     "metadata": {
      "needs_background": "light"
     },
     "output_type": "display_data"
    },
    {
     "data": {
      "image/png": "[encoded data removed]",
      "text/plain": [
       "<Figure size 432x288 with 1 Axes>"
      ]
     },
     "metadata": {
      "needs_background": "light"
     },
     "output_type": "display_data"
    }
   ],
   "source": [
    "#绘图函数\n",
    "def hist(d,bin,x,y,t):\n",
    "    plt.hist(d, bins=bin,  edgecolor = 'black',\\\n",
    "         histtype='bar', align='mid', orientation='vertical')\n",
    "    plt.xlabel(x)\n",
    "    plt.ylabel(y)\n",
    "    plt.title(t)\n",
    "    plt.show()\n",
    "def box(data1,data2,y):\n",
    "    box = pd.DataFrame({\"winemag-data_first150k.csv\":data1,\n",
    "                         \"winemag-data-130k-v2.csv\":data2})\n",
    "    box.boxplot()\n",
    "    plt.ylabel(y)\n",
    "    plt.xlabel(\"dataset\")\n",
    "    plt.show()\n",
    "\n",
    "#剔除缺失值\n",
    "\n",
    "data1_1=data1\n",
    "data2_1=data2\n",
    "data1_1=data1_1.dropna(axis=0, how='any')\n",
    "data1_2=data1_1.dropna(axis=0, how='any')\n",
    "box(data1[[\"points\"][0]],data2[[\"points\"][0]],'Original points')\n",
    "box(data1_1[[\"points\"][0]],data1_2[[\"points\"][0]],'Delete NaN points')"
   ]
  },
  {
   "cell_type": "code",
   "execution_count": 10,
   "metadata": {},
   "outputs": [
    {
     "name": "stdout",
     "output_type": "stream",
     "text": [
      "winemag-data_first150k.csv:20.0\n"
     ]
    },
    {
     "data": {
      "image/png": "[encoded data removed]",
      "text/plain": [
       "<Figure size 432x288 with 1 Axes>"
      ]
     },
     "metadata": {
      "needs_background": "light"
     },
     "output_type": "display_data"
    },
    {
     "data": {
      "image/png": "[encoded data removed]",
      "text/plain": [
       "<Figure size 432x288 with 1 Axes>"
      ]
     },
     "metadata": {
      "needs_background": "light"
     },
     "output_type": "display_data"
    },
    {
     "name": "stdout",
     "output_type": "stream",
     "text": [
      "可以看其五数概括变化:\n",
      "\n",
      "(4.0, 16.0, 22.0, 38.0, 2300.0)\n",
      "\n",
      "其均值和Q3从原来24，40变成了22，38\n",
      "\n",
      "\n",
      "winemag-data-130k-v2.csv:20.0\n"
     ]
    },
    {
     "data": {
      "image/png": "[encoded data removed]",
      "text/plain": [
       "<Figure size 432x288 with 1 Axes>"
      ]
     },
     "metadata": {
      "needs_background": "light"
     },
     "output_type": "display_data"
    },
    {
     "data": {
      "image/png": "[encoded data removed]",
      "text/plain": [
       "<Figure size 432x288 with 1 Axes>"
      ]
     },
     "metadata": {
      "needs_background": "light"
     },
     "output_type": "display_data"
    },
    {
     "name": "stdout",
     "output_type": "stream",
     "text": [
      "其五数概括变化:\n",
      "\n",
      "(4.0, 18.0, 25.0, 40.0, 3300.0)\n",
      "\n",
      "其Q1和Q3从原来17，42变成了18，40\n"
     ]
    }
   ],
   "source": [
    "#高频值填充\n",
    "frequency1=data1[[\"price\"][0]].mode()\n",
    "frequency2=data2[[\"price\"][0]].mode()\n",
    "data2_1=data1[[\"price\"][0]].fillna(frequency1[0])\n",
    "data2_2=data2[[\"price\"][0]].fillna(frequency2[0])\n",
    "print(\"winemag-data_first150k.csv:\"+str(frequency1[0]))\n",
    "hist(data2_1,50,\"price\",\"frequency\",\"add frequency\")\n",
    "hist(d,50,\"price\",\"frequency\",\"original\")\n",
    "print(\"可以看其五数概括变化:\\n\")\n",
    "print(fiveNumber(data2_1))\n",
    "print(\"\\n其均值和Q3从原来24，40变成了22，38\")\n",
    "\n",
    "print(\"\\n\\nwinemag-data-130k-v2.csv:\"+str(frequency2[0]))\n",
    "hist(data2_2,50,\"price\",\"frequency\",\"add frequency\")\n",
    "hist(d2,50,\"price\",\"frequency\",\"original\")\n",
    "print(\"其五数概括变化:\\n\")\n",
    "print(fiveNumber(data2_2))\n",
    "print(\"\\n其Q1和Q3从原来17，42变成了18，40\")"
   ]
  },
  {
   "cell_type": "code",
   "execution_count": 11,
   "metadata": {},
   "outputs": [
    {
     "name": "stdout",
     "output_type": "stream",
     "text": [
      "winemag-data_first150k.csv: France mode:20.0  Italy mode:20.0\n",
      "winemag-data-130k-v2.csv: France mode:20.0  Italy mode:20.0\n"
     ]
    }
   ],
   "source": [
    "#对象之间的相似性填充\n",
    "data3_1=data1\n",
    "data3_2=data2\n",
    "data3_3=data3_1[data3_1[\"country\"]==\"France\"]\n",
    "data3_4=data3_1[data3_1[\"country\"]==\"Italy\"]\n",
    "data3_3=data3_3.dropna(axis=0, how='any')\n",
    "data3_4=data3_4.dropna(axis=0, how='any')\n",
    "\n",
    "data3_5=data3_2[data3_2[\"country\"]==\"France\"]\n",
    "data3_6=data3_2[data3_2[\"country\"]==\"Italy\"]\n",
    "data3_5=data3_5.dropna(axis=0, how='any')\n",
    "data3_6=data3_6.dropna(axis=0, how='any')\n",
    "#print(data3_3)\n",
    "frequency_France1=data3_3[\"price\"].mode()\n",
    "frequency_Italy1=data3_4[\"price\"].mode()\n",
    "\n",
    "frequency_France2=data3_5[\"price\"].mode()\n",
    "frequency_Italy2=data3_6[\"price\"].mode()\n",
    "print(\"winemag-data_first150k.csv: France mode:\"+str(frequency_France1[0])+\"  Italy mode:\"+str(frequency_Italy1[0]))\n",
    "print(\"winemag-data-130k-v2.csv: France mode:\"+str(frequency_France2[0])+\"  Italy mode:\"+str(frequency_Italy2[0]))"
   ]
  },
  {
   "cell_type": "code",
   "execution_count": 12,
   "metadata": {},
   "outputs": [
    {
     "name": "stdout",
     "output_type": "stream",
     "text": [
      "winemag-data_first150k.csv: PLCC=0.4598685797755388  Cosine similarity=[0.68591622]\n",
      "winemag-data-130k-v2.csv: PLCC=0.4040017582872983  Cosine similarity=[0.64080925]\n"
     ]
    },
    {
     "data": {
      "image/png": "[encoded data removed]",
      "text/plain": [
       "<Figure size 432x288 with 1 Axes>"
      ]
     },
     "metadata": {
      "needs_background": "light"
     },
     "output_type": "display_data"
    },
    {
     "data": {
      "image/png": "[encoded data removed]",
      "text/plain": [
       "<Figure size 432x288 with 1 Axes>"
      ]
     },
     "metadata": {
      "needs_background": "light"
     },
     "output_type": "display_data"
    },
    {
     "name": "stdout",
     "output_type": "stream",
     "text": [
      "winemag-data_first150k.csv属性相关填充后五数概括(4.0, 16.0, 24.0, 40.0, 2300.0)\n"
     ]
    },
    {
     "data": {
      "image/png": "[encoded data removed]",
      "text/plain": [
       "<Figure size 432x288 with 1 Axes>"
      ]
     },
     "metadata": {
      "needs_background": "light"
     },
     "output_type": "display_data"
    },
    {
     "name": "stdout",
     "output_type": "stream",
     "text": [
      "winemag-data-130k-v2.csv属性相关填充后五数概括(4.0, 17.0, 25.0, 41.0, 3300.0)\n"
     ]
    }
   ],
   "source": [
    "#属性间的相关性填充，由于数值只有point和price，以这两者考虑相似性\n",
    "data4_1=data1\n",
    "data4_2=data2\n",
    "data4_1=data4_1.dropna(axis=0, how='any')\n",
    "data4_2=data4_2.dropna(axis=0, how='any')\n",
    "points1=data4_1[\"points\"]\n",
    "price1=data4_1[\"price\"]\n",
    "points2=data4_2[\"points\"]\n",
    "price2=data4_2[\"price\"]\n",
    "cos1 = np.vstack([points1,price1])\n",
    "p1 = 1 - pdist(cos1,'cosine')\n",
    "cos2 = np.vstack([points2,price2])\n",
    "p2 = 1 - pdist(cos2,'cosine')\n",
    "print(\"winemag-data_first150k.csv: PLCC=\"+str(points1.corr(price1,method=\"pearson\"))+\"  Cosine similarity=\"+str(p1))\n",
    "print(\"winemag-data-130k-v2.csv: PLCC=\"+str(points2.corr(price2,method=\"pearson\"))+\"  Cosine similarity=\"+str(p2))\n",
    "\n",
    "#以每个度数的中值来填充结果\n",
    "xx = data1[[ \"points\", \"price\"]].groupby(by=\"points\").median()\n",
    "xx=xx.values\n",
    "xx=xx.flatten()\n",
    "yy = data1[[ \"points\", \"price\"]].groupby(by=\"points\").median()\n",
    "yy=yy.values\n",
    "yy=yy.flatten()\n",
    "\n",
    "data_add1=data1\n",
    "data_add2=data2\n",
    "dataadd_g1=pd.DataFrame()\n",
    "dataadd_g2=pd.DataFrame()\n",
    "for i in range(80,101):\n",
    "    data_ad1=data_add1.loc[data_add1['points'].isin([i])].fillna(xx[i-80])\n",
    "    data_ad2=data_add2.loc[data_add1['points'].isin([i])].fillna(yy[i-80])\n",
    "    if(i==80):\n",
    "        data_add_g1=data_ad1\n",
    "        data_add_g2=data_ad2\n",
    "    else:\n",
    "        data_add_g1=pd.concat([data_add_g1,data_ad1],axis=0)\n",
    "        data_add_g2=pd.concat([data_add_g2,data_ad2],axis=0)\n",
    "prices1=data_add_g1[[\"price\"][0]]\n",
    "prices2=data_add_g2[[\"price\"][0]]\n",
    "box(prices1,prices2,\"prices\")\n",
    "hist(prices1,50,\"prices\",\"frequency\",\"winemag-data_first150k.csv relative filling\")\n",
    "print(\"winemag-data_first150k.csv属性相关填充后五数概括\"+str(fiveNumber((prices1.values).flatten())))\n",
    "hist(prices2,50,\"prices\",\"frequency\",\"winemag-data-130k-v2.csv relative filling\")\n",
    "print(\"winemag-data-130k-v2.csv属性相关填充后五数概括\"+str(fiveNumber((prices2.values).flatten())))"
   ]
  }
 ],
 "metadata": {
  "kernelspec": {
   "display_name": "Python 3",
   "language": "python",
   "name": "python3"
  },
  "language_info": {
   "codemirror_mode": {
    "name": "ipython",
    "version": 3
   },
   "file_extension": ".py",
   "mimetype": "text/x-python",
   "name": "python",
   "nbconvert_exporter": "python",
   "pygments_lexer": "ipython3",
   "version": "3.7.4"
  }
 },
 "nbformat": 4,
 "nbformat_minor": 4
}
